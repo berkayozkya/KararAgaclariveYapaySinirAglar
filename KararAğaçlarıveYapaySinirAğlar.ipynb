{
  "cells": [
    {
      "cell_type": "markdown",
      "metadata": {
        "id": "EPRkMxWqd2WR"
      },
      "source": [
        "# Kütüphanelerin Yüklenmesi\n",
        "\n"
      ]
    },
    {
      "cell_type": "code",
      "execution_count": null,
      "metadata": {
        "id": "37OqQ3nIhCGI"
      },
      "outputs": [],
      "source": [
        "from sklearn.model_selection import train_test_split\n",
        "from sklearn.tree import DecisionTreeClassifier \n",
        "from sklearn import metrics\n",
        "from sklearn import preprocessing\n",
        "from sklearn.metrics import accuracy_score \n",
        "import pandas as pd\n",
        "import numpy as np\n",
        "import matplotlib.pyplot as plt\n",
        "import seaborn as sns"
      ]
    },
    {
      "cell_type": "markdown",
      "metadata": {
        "id": "0VjTCB7td6hV"
      },
      "source": [
        "# Verilerin Yüklenmesi"
      ]
    },
    {
      "cell_type": "code",
      "execution_count": null,
      "metadata": {
        "colab": {
          "base_uri": "https://localhost:8080/",
          "height": 468
        },
        "id": "T0dR9jA5jpty",
        "outputId": "022b466c-196a-461e-e52a-fb87b950238c"
      },
      "outputs": [
        {
          "data": {
            "text/html": [
              "\n",
              "  <div id=\"df-def3bc92-4c44-4c5d-b79f-7fabafc2a65b\">\n",
              "    <div class=\"colab-df-container\">\n",
              "      <div>\n",
              "<style scoped>\n",
              "    .dataframe tbody tr th:only-of-type {\n",
              "        vertical-align: middle;\n",
              "    }\n",
              "\n",
              "    .dataframe tbody tr th {\n",
              "        vertical-align: top;\n",
              "    }\n",
              "\n",
              "    .dataframe thead th {\n",
              "        text-align: right;\n",
              "    }\n",
              "</style>\n",
              "<table border=\"1\" class=\"dataframe\">\n",
              "  <thead>\n",
              "    <tr style=\"text-align: right;\">\n",
              "      <th></th>\n",
              "      <th>satisfaction_level</th>\n",
              "      <th>last_evaluation</th>\n",
              "      <th>number_project</th>\n",
              "      <th>average_montly_hours</th>\n",
              "      <th>time_spend_company</th>\n",
              "      <th>Work_accident</th>\n",
              "      <th>left</th>\n",
              "      <th>promotion_last_5years</th>\n",
              "      <th>sales</th>\n",
              "      <th>salary</th>\n",
              "    </tr>\n",
              "  </thead>\n",
              "  <tbody>\n",
              "    <tr>\n",
              "      <th>0</th>\n",
              "      <td>0.38</td>\n",
              "      <td>0.53</td>\n",
              "      <td>2</td>\n",
              "      <td>157</td>\n",
              "      <td>3</td>\n",
              "      <td>0</td>\n",
              "      <td>1</td>\n",
              "      <td>0</td>\n",
              "      <td>sales</td>\n",
              "      <td>low</td>\n",
              "    </tr>\n",
              "    <tr>\n",
              "      <th>1</th>\n",
              "      <td>0.80</td>\n",
              "      <td>0.86</td>\n",
              "      <td>5</td>\n",
              "      <td>262</td>\n",
              "      <td>6</td>\n",
              "      <td>0</td>\n",
              "      <td>1</td>\n",
              "      <td>0</td>\n",
              "      <td>sales</td>\n",
              "      <td>medium</td>\n",
              "    </tr>\n",
              "    <tr>\n",
              "      <th>2</th>\n",
              "      <td>0.11</td>\n",
              "      <td>0.88</td>\n",
              "      <td>7</td>\n",
              "      <td>272</td>\n",
              "      <td>4</td>\n",
              "      <td>0</td>\n",
              "      <td>1</td>\n",
              "      <td>0</td>\n",
              "      <td>sales</td>\n",
              "      <td>medium</td>\n",
              "    </tr>\n",
              "    <tr>\n",
              "      <th>3</th>\n",
              "      <td>0.72</td>\n",
              "      <td>0.87</td>\n",
              "      <td>5</td>\n",
              "      <td>223</td>\n",
              "      <td>5</td>\n",
              "      <td>0</td>\n",
              "      <td>1</td>\n",
              "      <td>0</td>\n",
              "      <td>sales</td>\n",
              "      <td>low</td>\n",
              "    </tr>\n",
              "    <tr>\n",
              "      <th>4</th>\n",
              "      <td>0.37</td>\n",
              "      <td>0.52</td>\n",
              "      <td>2</td>\n",
              "      <td>159</td>\n",
              "      <td>3</td>\n",
              "      <td>0</td>\n",
              "      <td>1</td>\n",
              "      <td>0</td>\n",
              "      <td>sales</td>\n",
              "      <td>low</td>\n",
              "    </tr>\n",
              "    <tr>\n",
              "      <th>...</th>\n",
              "      <td>...</td>\n",
              "      <td>...</td>\n",
              "      <td>...</td>\n",
              "      <td>...</td>\n",
              "      <td>...</td>\n",
              "      <td>...</td>\n",
              "      <td>...</td>\n",
              "      <td>...</td>\n",
              "      <td>...</td>\n",
              "      <td>...</td>\n",
              "    </tr>\n",
              "    <tr>\n",
              "      <th>14994</th>\n",
              "      <td>0.40</td>\n",
              "      <td>0.57</td>\n",
              "      <td>2</td>\n",
              "      <td>151</td>\n",
              "      <td>3</td>\n",
              "      <td>0</td>\n",
              "      <td>1</td>\n",
              "      <td>0</td>\n",
              "      <td>support</td>\n",
              "      <td>low</td>\n",
              "    </tr>\n",
              "    <tr>\n",
              "      <th>14995</th>\n",
              "      <td>0.37</td>\n",
              "      <td>0.48</td>\n",
              "      <td>2</td>\n",
              "      <td>160</td>\n",
              "      <td>3</td>\n",
              "      <td>0</td>\n",
              "      <td>1</td>\n",
              "      <td>0</td>\n",
              "      <td>support</td>\n",
              "      <td>low</td>\n",
              "    </tr>\n",
              "    <tr>\n",
              "      <th>14996</th>\n",
              "      <td>0.37</td>\n",
              "      <td>0.53</td>\n",
              "      <td>2</td>\n",
              "      <td>143</td>\n",
              "      <td>3</td>\n",
              "      <td>0</td>\n",
              "      <td>1</td>\n",
              "      <td>0</td>\n",
              "      <td>support</td>\n",
              "      <td>low</td>\n",
              "    </tr>\n",
              "    <tr>\n",
              "      <th>14997</th>\n",
              "      <td>0.11</td>\n",
              "      <td>0.96</td>\n",
              "      <td>6</td>\n",
              "      <td>280</td>\n",
              "      <td>4</td>\n",
              "      <td>0</td>\n",
              "      <td>1</td>\n",
              "      <td>0</td>\n",
              "      <td>support</td>\n",
              "      <td>low</td>\n",
              "    </tr>\n",
              "    <tr>\n",
              "      <th>14998</th>\n",
              "      <td>0.37</td>\n",
              "      <td>0.52</td>\n",
              "      <td>2</td>\n",
              "      <td>158</td>\n",
              "      <td>3</td>\n",
              "      <td>0</td>\n",
              "      <td>1</td>\n",
              "      <td>0</td>\n",
              "      <td>support</td>\n",
              "      <td>low</td>\n",
              "    </tr>\n",
              "  </tbody>\n",
              "</table>\n",
              "<p>14999 rows × 10 columns</p>\n",
              "</div>\n",
              "      <button class=\"colab-df-convert\" onclick=\"convertToInteractive('df-def3bc92-4c44-4c5d-b79f-7fabafc2a65b')\"\n",
              "              title=\"Convert this dataframe to an interactive table.\"\n",
              "              style=\"display:none;\">\n",
              "        \n",
              "  <svg xmlns=\"http://www.w3.org/2000/svg\" height=\"24px\"viewBox=\"0 0 24 24\"\n",
              "       width=\"24px\">\n",
              "    <path d=\"M0 0h24v24H0V0z\" fill=\"none\"/>\n",
              "    <path d=\"M18.56 5.44l.94 2.06.94-2.06 2.06-.94-2.06-.94-.94-2.06-.94 2.06-2.06.94zm-11 1L8.5 8.5l.94-2.06 2.06-.94-2.06-.94L8.5 2.5l-.94 2.06-2.06.94zm10 10l.94 2.06.94-2.06 2.06-.94-2.06-.94-.94-2.06-.94 2.06-2.06.94z\"/><path d=\"M17.41 7.96l-1.37-1.37c-.4-.4-.92-.59-1.43-.59-.52 0-1.04.2-1.43.59L10.3 9.45l-7.72 7.72c-.78.78-.78 2.05 0 2.83L4 21.41c.39.39.9.59 1.41.59.51 0 1.02-.2 1.41-.59l7.78-7.78 2.81-2.81c.8-.78.8-2.07 0-2.86zM5.41 20L4 18.59l7.72-7.72 1.47 1.35L5.41 20z\"/>\n",
              "  </svg>\n",
              "      </button>\n",
              "      \n",
              "  <style>\n",
              "    .colab-df-container {\n",
              "      display:flex;\n",
              "      flex-wrap:wrap;\n",
              "      gap: 12px;\n",
              "    }\n",
              "\n",
              "    .colab-df-convert {\n",
              "      background-color: #E8F0FE;\n",
              "      border: none;\n",
              "      border-radius: 50%;\n",
              "      cursor: pointer;\n",
              "      display: none;\n",
              "      fill: #1967D2;\n",
              "      height: 32px;\n",
              "      padding: 0 0 0 0;\n",
              "      width: 32px;\n",
              "    }\n",
              "\n",
              "    .colab-df-convert:hover {\n",
              "      background-color: #E2EBFA;\n",
              "      box-shadow: 0px 1px 2px rgba(60, 64, 67, 0.3), 0px 1px 3px 1px rgba(60, 64, 67, 0.15);\n",
              "      fill: #174EA6;\n",
              "    }\n",
              "\n",
              "    [theme=dark] .colab-df-convert {\n",
              "      background-color: #3B4455;\n",
              "      fill: #D2E3FC;\n",
              "    }\n",
              "\n",
              "    [theme=dark] .colab-df-convert:hover {\n",
              "      background-color: #434B5C;\n",
              "      box-shadow: 0px 1px 3px 1px rgba(0, 0, 0, 0.15);\n",
              "      filter: drop-shadow(0px 1px 2px rgba(0, 0, 0, 0.3));\n",
              "      fill: #FFFFFF;\n",
              "    }\n",
              "  </style>\n",
              "\n",
              "      <script>\n",
              "        const buttonEl =\n",
              "          document.querySelector('#df-def3bc92-4c44-4c5d-b79f-7fabafc2a65b button.colab-df-convert');\n",
              "        buttonEl.style.display =\n",
              "          google.colab.kernel.accessAllowed ? 'block' : 'none';\n",
              "\n",
              "        async function convertToInteractive(key) {\n",
              "          const element = document.querySelector('#df-def3bc92-4c44-4c5d-b79f-7fabafc2a65b');\n",
              "          const dataTable =\n",
              "            await google.colab.kernel.invokeFunction('convertToInteractive',\n",
              "                                                     [key], {});\n",
              "          if (!dataTable) return;\n",
              "\n",
              "          const docLinkHtml = 'Like what you see? Visit the ' +\n",
              "            '<a target=\"_blank\" href=https://colab.research.google.com/notebooks/data_table.ipynb>data table notebook</a>'\n",
              "            + ' to learn more about interactive tables.';\n",
              "          element.innerHTML = '';\n",
              "          dataTable['output_type'] = 'display_data';\n",
              "          await google.colab.output.renderOutput(dataTable, element);\n",
              "          const docLink = document.createElement('div');\n",
              "          docLink.innerHTML = docLinkHtml;\n",
              "          element.appendChild(docLink);\n",
              "        }\n",
              "      </script>\n",
              "    </div>\n",
              "  </div>\n",
              "  "
            ],
            "text/plain": [
              "       satisfaction_level  last_evaluation  number_project  \\\n",
              "0                    0.38             0.53               2   \n",
              "1                    0.80             0.86               5   \n",
              "2                    0.11             0.88               7   \n",
              "3                    0.72             0.87               5   \n",
              "4                    0.37             0.52               2   \n",
              "...                   ...              ...             ...   \n",
              "14994                0.40             0.57               2   \n",
              "14995                0.37             0.48               2   \n",
              "14996                0.37             0.53               2   \n",
              "14997                0.11             0.96               6   \n",
              "14998                0.37             0.52               2   \n",
              "\n",
              "       average_montly_hours  time_spend_company  Work_accident  left  \\\n",
              "0                       157                   3              0     1   \n",
              "1                       262                   6              0     1   \n",
              "2                       272                   4              0     1   \n",
              "3                       223                   5              0     1   \n",
              "4                       159                   3              0     1   \n",
              "...                     ...                 ...            ...   ...   \n",
              "14994                   151                   3              0     1   \n",
              "14995                   160                   3              0     1   \n",
              "14996                   143                   3              0     1   \n",
              "14997                   280                   4              0     1   \n",
              "14998                   158                   3              0     1   \n",
              "\n",
              "       promotion_last_5years    sales  salary  \n",
              "0                          0    sales     low  \n",
              "1                          0    sales  medium  \n",
              "2                          0    sales  medium  \n",
              "3                          0    sales     low  \n",
              "4                          0    sales     low  \n",
              "...                      ...      ...     ...  \n",
              "14994                      0  support     low  \n",
              "14995                      0  support     low  \n",
              "14996                      0  support     low  \n",
              "14997                      0  support     low  \n",
              "14998                      0  support     low  \n",
              "\n",
              "[14999 rows x 10 columns]"
            ]
          },
          "execution_count": 341,
          "metadata": {},
          "output_type": "execute_result"
        }
      ],
      "source": [
        "data = pd.read_csv('data/HR.csv')\n",
        "data"
      ]
    },
    {
      "cell_type": "code",
      "execution_count": null,
      "metadata": {
        "colab": {
          "base_uri": "https://localhost:8080/"
        },
        "id": "Oct10S2Uk1jO",
        "outputId": "7da6958a-fbe0-41e9-ce80-a0b18b4f0f66"
      },
      "outputs": [
        {
          "data": {
            "text/plain": [
              "satisfaction_level       0\n",
              "last_evaluation          0\n",
              "number_project           0\n",
              "average_montly_hours     0\n",
              "time_spend_company       0\n",
              "Work_accident            0\n",
              "left                     0\n",
              "promotion_last_5years    0\n",
              "sales                    0\n",
              "salary                   0\n",
              "dtype: int64"
            ]
          },
          "execution_count": 342,
          "metadata": {},
          "output_type": "execute_result"
        }
      ],
      "source": [
        "data.isnull().sum() #null veri kontrolü\n"
      ]
    },
    {
      "cell_type": "markdown",
      "metadata": {
        "id": "0avh3SdieCDn"
      },
      "source": [
        "# Verilerin Yorumlanması ve Grafikler"
      ]
    },
    {
      "cell_type": "code",
      "execution_count": null,
      "metadata": {
        "colab": {
          "base_uri": "https://localhost:8080/"
        },
        "id": "X0gDE3hRlRs5",
        "outputId": "9e65718d-f62f-4cec-c1d8-c03955457e85"
      },
      "outputs": [
        {
          "data": {
            "text/plain": [
              "satisfaction_level        92\n",
              "last_evaluation           65\n",
              "number_project             6\n",
              "average_montly_hours     215\n",
              "time_spend_company         8\n",
              "Work_accident              2\n",
              "left                       2\n",
              "promotion_last_5years      2\n",
              "sales                     10\n",
              "salary                     3\n",
              "dtype: int64"
            ]
          },
          "execution_count": 343,
          "metadata": {},
          "output_type": "execute_result"
        }
      ],
      "source": [
        "data.nunique() # sütunlardaki veri çeşitliliği\n"
      ]
    },
    {
      "cell_type": "code",
      "execution_count": null,
      "metadata": {
        "colab": {
          "base_uri": "https://localhost:8080/"
        },
        "id": "huvQdL7Mma8P",
        "outputId": "96a646fb-34e6-497e-ec57-071d8ebf4f66"
      },
      "outputs": [
        {
          "data": {
            "text/plain": [
              "low       7316\n",
              "medium    6446\n",
              "high      1237\n",
              "Name: salary, dtype: int64"
            ]
          },
          "execution_count": 344,
          "metadata": {},
          "output_type": "execute_result"
        }
      ],
      "source": [
        "data.salary.value_counts() #gelir dağılımı"
      ]
    },
    {
      "cell_type": "code",
      "execution_count": null,
      "metadata": {
        "colab": {
          "base_uri": "https://localhost:8080/",
          "height": 279
        },
        "id": "uxEv7LxNmtLw",
        "outputId": "102dd4c2-04b0-4174-8348-ddd77f273519"
      },
      "outputs": [
        {
          "data": {
            "image/png": "[encoded data removed]",
            "text/plain": [
              "<Figure size 432x288 with 1 Axes>"
            ]
          },
          "metadata": {
            "needs_background": "light"
          },
          "output_type": "display_data"
        }
      ],
      "source": [
        "ax = sns.countplot(x='salary',data=data) #gelir grafiği\n",
        "for p in ax.patches:\n",
        "        ax.annotate('{:}'.format(p.get_height()), (p.get_x()+0.1, p.get_height()+50))"
      ]
    },
    {
      "cell_type": "code",
      "execution_count": null,
      "metadata": {
        "colab": {
          "base_uri": "https://localhost:8080/"
        },
        "id": "LN9etyCimckH",
        "outputId": "e7cd47c0-51ed-49d2-c3d8-bbf3846bad2a"
      },
      "outputs": [
        {
          "data": {
            "text/plain": [
              "sales          4140\n",
              "technical      2720\n",
              "support        2229\n",
              "IT             1227\n",
              "product_mng     902\n",
              "marketing       858\n",
              "RandD           787\n",
              "accounting      767\n",
              "hr              739\n",
              "management      630\n",
              "Name: sales, dtype: int64"
            ]
          },
          "execution_count": 346,
          "metadata": {},
          "output_type": "execute_result"
        }
      ],
      "source": [
        "data.sales.value_counts() # departmanların çeşitleri ve sayısı\n",
        "\n"
      ]
    },
    {
      "cell_type": "code",
      "execution_count": null,
      "metadata": {
        "colab": {
          "base_uri": "https://localhost:8080/",
          "height": 443
        },
        "id": "0dDnCU-JnVyD",
        "outputId": "5a525318-ee62-47f9-a7f5-ce6909ce3539"
      },
      "outputs": [
        {
          "data": {
            "image/png": "[encoded data removed]",
            "text/plain": [
              "<Figure size 720x504 with 1 Axes>"
            ]
          },
          "metadata": {
            "needs_background": "light"
          },
          "output_type": "display_data"
        }
      ],
      "source": [
        "# departman grafiği\n",
        "plt.figure(figsize=(10,7))\n",
        "ax = sns.countplot(x='sales',data=data)\n",
        "for p in ax.patches:\n",
        "        ax.annotate('{:}'.format(p.get_height()), (p.get_x()+0.1, p.get_height()+50))"
      ]
    },
    {
      "cell_type": "code",
      "execution_count": null,
      "metadata": {
        "colab": {
          "base_uri": "https://localhost:8080/",
          "height": 367
        },
        "id": "zePMOZUFnajq",
        "outputId": "aa0fc210-a373-4ef6-d158-3c08ac1f317b"
      },
      "outputs": [
        {
          "data": {
            "text/plain": [
              "Text(0.5, 1.0, 'left or not left ')"
            ]
          },
          "execution_count": 348,
          "metadata": {},
          "output_type": "execute_result"
        },
        {
          "data": {
            "image/png": "[encoded data removed]",
            "text/plain": [
              "<Figure size 504x360 with 1 Axes>"
            ]
          },
          "metadata": {
            "needs_background": "light"
          },
          "output_type": "display_data"
        }
      ],
      "source": [
        "plt.figure(figsize=(7,5))\n",
        "ax = sns.countplot(x='left',data=data)\n",
        "plt.xticks((0, 1), [\"Didn't left\", \"Left\"])\n",
        "for p in ax.patches:\n",
        "        ax.annotate('{:}'.format(p.get_height()), (p.get_x()+0.1, p.get_height()+50))\n",
        "plt.title('left or not left ')"
      ]
    },
    {
      "cell_type": "code",
      "execution_count": null,
      "metadata": {
        "colab": {
          "base_uri": "https://localhost:8080/",
          "height": 394
        },
        "id": "vemPeP5zny8Z",
        "outputId": "36150f00-4ff5-4c9a-ec6f-604186b3fe1d"
      },
      "outputs": [
        {
          "data": {
            "text/html": [
              "\n",
              "  <div id=\"df-aa7fd4b3-0cc0-4478-bfb4-aee24627adf8\">\n",
              "    <div class=\"colab-df-container\">\n",
              "      <div>\n",
              "<style scoped>\n",
              "    .dataframe tbody tr th:only-of-type {\n",
              "        vertical-align: middle;\n",
              "    }\n",
              "\n",
              "    .dataframe tbody tr th {\n",
              "        vertical-align: top;\n",
              "    }\n",
              "\n",
              "    .dataframe thead th {\n",
              "        text-align: right;\n",
              "    }\n",
              "</style>\n",
              "<table border=\"1\" class=\"dataframe\">\n",
              "  <thead>\n",
              "    <tr style=\"text-align: right;\">\n",
              "      <th>left</th>\n",
              "      <th>0</th>\n",
              "      <th>1</th>\n",
              "    </tr>\n",
              "    <tr>\n",
              "      <th>sales</th>\n",
              "      <th></th>\n",
              "      <th></th>\n",
              "    </tr>\n",
              "  </thead>\n",
              "  <tbody>\n",
              "    <tr>\n",
              "      <th>IT</th>\n",
              "      <td>954</td>\n",
              "      <td>273</td>\n",
              "    </tr>\n",
              "    <tr>\n",
              "      <th>RandD</th>\n",
              "      <td>666</td>\n",
              "      <td>121</td>\n",
              "    </tr>\n",
              "    <tr>\n",
              "      <th>accounting</th>\n",
              "      <td>563</td>\n",
              "      <td>204</td>\n",
              "    </tr>\n",
              "    <tr>\n",
              "      <th>hr</th>\n",
              "      <td>524</td>\n",
              "      <td>215</td>\n",
              "    </tr>\n",
              "    <tr>\n",
              "      <th>management</th>\n",
              "      <td>539</td>\n",
              "      <td>91</td>\n",
              "    </tr>\n",
              "    <tr>\n",
              "      <th>marketing</th>\n",
              "      <td>655</td>\n",
              "      <td>203</td>\n",
              "    </tr>\n",
              "    <tr>\n",
              "      <th>product_mng</th>\n",
              "      <td>704</td>\n",
              "      <td>198</td>\n",
              "    </tr>\n",
              "    <tr>\n",
              "      <th>sales</th>\n",
              "      <td>3126</td>\n",
              "      <td>1014</td>\n",
              "    </tr>\n",
              "    <tr>\n",
              "      <th>support</th>\n",
              "      <td>1674</td>\n",
              "      <td>555</td>\n",
              "    </tr>\n",
              "    <tr>\n",
              "      <th>technical</th>\n",
              "      <td>2023</td>\n",
              "      <td>697</td>\n",
              "    </tr>\n",
              "  </tbody>\n",
              "</table>\n",
              "</div>\n",
              "      <button class=\"colab-df-convert\" onclick=\"convertToInteractive('df-aa7fd4b3-0cc0-4478-bfb4-aee24627adf8')\"\n",
              "              title=\"Convert this dataframe to an interactive table.\"\n",
              "              style=\"display:none;\">\n",
              "        \n",
              "  <svg xmlns=\"http://www.w3.org/2000/svg\" height=\"24px\"viewBox=\"0 0 24 24\"\n",
              "       width=\"24px\">\n",
              "    <path d=\"M0 0h24v24H0V0z\" fill=\"none\"/>\n",
              "    <path d=\"M18.56 5.44l.94 2.06.94-2.06 2.06-.94-2.06-.94-.94-2.06-.94 2.06-2.06.94zm-11 1L8.5 8.5l.94-2.06 2.06-.94-2.06-.94L8.5 2.5l-.94 2.06-2.06.94zm10 10l.94 2.06.94-2.06 2.06-.94-2.06-.94-.94-2.06-.94 2.06-2.06.94z\"/><path d=\"M17.41 7.96l-1.37-1.37c-.4-.4-.92-.59-1.43-.59-.52 0-1.04.2-1.43.59L10.3 9.45l-7.72 7.72c-.78.78-.78 2.05 0 2.83L4 21.41c.39.39.9.59 1.41.59.51 0 1.02-.2 1.41-.59l7.78-7.78 2.81-2.81c.8-.78.8-2.07 0-2.86zM5.41 20L4 18.59l7.72-7.72 1.47 1.35L5.41 20z\"/>\n",
              "  </svg>\n",
              "      </button>\n",
              "      \n",
              "  <style>\n",
              "    .colab-df-container {\n",
              "      display:flex;\n",
              "      flex-wrap:wrap;\n",
              "      gap: 12px;\n",
              "    }\n",
              "\n",
              "    .colab-df-convert {\n",
              "      background-color: #E8F0FE;\n",
              "      border: none;\n",
              "      border-radius: 50%;\n",
              "      cursor: pointer;\n",
              "      display: none;\n",
              "      fill: #1967D2;\n",
              "      height: 32px;\n",
              "      padding: 0 0 0 0;\n",
              "      width: 32px;\n",
              "    }\n",
              "\n",
              "    .colab-df-convert:hover {\n",
              "      background-color: #E2EBFA;\n",
              "      box-shadow: 0px 1px 2px rgba(60, 64, 67, 0.3), 0px 1px 3px 1px rgba(60, 64, 67, 0.15);\n",
              "      fill: #174EA6;\n",
              "    }\n",
              "\n",
              "    [theme=dark] .colab-df-convert {\n",
              "      background-color: #3B4455;\n",
              "      fill: #D2E3FC;\n",
              "    }\n",
              "\n",
              "    [theme=dark] .colab-df-convert:hover {\n",
              "      background-color: #434B5C;\n",
              "      box-shadow: 0px 1px 3px 1px rgba(0, 0, 0, 0.15);\n",
              "      filter: drop-shadow(0px 1px 2px rgba(0, 0, 0, 0.3));\n",
              "      fill: #FFFFFF;\n",
              "    }\n",
              "  </style>\n",
              "\n",
              "      <script>\n",
              "        const buttonEl =\n",
              "          document.querySelector('#df-aa7fd4b3-0cc0-4478-bfb4-aee24627adf8 button.colab-df-convert');\n",
              "        buttonEl.style.display =\n",
              "          google.colab.kernel.accessAllowed ? 'block' : 'none';\n",
              "\n",
              "        async function convertToInteractive(key) {\n",
              "          const element = document.querySelector('#df-aa7fd4b3-0cc0-4478-bfb4-aee24627adf8');\n",
              "          const dataTable =\n",
              "            await google.colab.kernel.invokeFunction('convertToInteractive',\n",
              "                                                     [key], {});\n",
              "          if (!dataTable) return;\n",
              "\n",
              "          const docLinkHtml = 'Like what you see? Visit the ' +\n",
              "            '<a target=\"_blank\" href=https://colab.research.google.com/notebooks/data_table.ipynb>data table notebook</a>'\n",
              "            + ' to learn more about interactive tables.';\n",
              "          element.innerHTML = '';\n",
              "          dataTable['output_type'] = 'display_data';\n",
              "          await google.colab.output.renderOutput(dataTable, element);\n",
              "          const docLink = document.createElement('div');\n",
              "          docLink.innerHTML = docLinkHtml;\n",
              "          element.appendChild(docLink);\n",
              "        }\n",
              "      </script>\n",
              "    </div>\n",
              "  </div>\n",
              "  "
            ],
            "text/plain": [
              "left            0     1\n",
              "sales                  \n",
              "IT            954   273\n",
              "RandD         666   121\n",
              "accounting    563   204\n",
              "hr            524   215\n",
              "management    539    91\n",
              "marketing     655   203\n",
              "product_mng   704   198\n",
              "sales        3126  1014\n",
              "support      1674   555\n",
              "technical    2023   697"
            ]
          },
          "execution_count": 349,
          "metadata": {},
          "output_type": "execute_result"
        }
      ],
      "source": [
        "pd.crosstab(data.sales, data.left) #departmanlarda ayrılan ayrılmayan sayıları\n"
      ]
    },
    {
      "cell_type": "code",
      "execution_count": null,
      "metadata": {
        "colab": {
          "base_uri": "https://localhost:8080/",
          "height": 499
        },
        "id": "LVe_ol4koMT_",
        "outputId": "e8cac4ae-765d-4f52-a0bc-9b64c0de1ea2"
      },
      "outputs": [
        {
          "data": {
            "image/png": "[encoded data removed]",
            "text/plain": [
              "<Figure size 720x504 with 1 Axes>"
            ]
          },
          "metadata": {
            "needs_background": "light"
          },
          "output_type": "display_data"
        }
      ],
      "source": [
        "ax = pd.crosstab(data.sales, data.left).plot(kind='bar', figsize=(10,7))\n",
        "plt.xlabel('sales')\n",
        "for p in ax.patches:\n",
        "        ax.annotate('{:}'.format(p.get_height()), (p.get_x()+0.001, p.get_height()+50))"
      ]
    },
    {
      "cell_type": "code",
      "execution_count": null,
      "metadata": {
        "colab": {
          "base_uri": "https://localhost:8080/",
          "height": 394
        },
        "id": "0GQwQkfwo-pm",
        "outputId": "f2467a83-c2f1-4600-f49c-e63362a6b736"
      },
      "outputs": [
        {
          "data": {
            "text/html": [
              "\n",
              "  <div id=\"df-fccf7ca8-a8db-478e-bc85-ea435c35e60b\">\n",
              "    <div class=\"colab-df-container\">\n",
              "      <div>\n",
              "<style scoped>\n",
              "    .dataframe tbody tr th:only-of-type {\n",
              "        vertical-align: middle;\n",
              "    }\n",
              "\n",
              "    .dataframe tbody tr th {\n",
              "        vertical-align: top;\n",
              "    }\n",
              "\n",
              "    .dataframe thead th {\n",
              "        text-align: right;\n",
              "    }\n",
              "</style>\n",
              "<table border=\"1\" class=\"dataframe\">\n",
              "  <thead>\n",
              "    <tr style=\"text-align: right;\">\n",
              "      <th>promotion_last_5years</th>\n",
              "      <th>0</th>\n",
              "      <th>1</th>\n",
              "    </tr>\n",
              "    <tr>\n",
              "      <th>sales</th>\n",
              "      <th></th>\n",
              "      <th></th>\n",
              "    </tr>\n",
              "  </thead>\n",
              "  <tbody>\n",
              "    <tr>\n",
              "      <th>IT</th>\n",
              "      <td>1224</td>\n",
              "      <td>3</td>\n",
              "    </tr>\n",
              "    <tr>\n",
              "      <th>RandD</th>\n",
              "      <td>760</td>\n",
              "      <td>27</td>\n",
              "    </tr>\n",
              "    <tr>\n",
              "      <th>accounting</th>\n",
              "      <td>753</td>\n",
              "      <td>14</td>\n",
              "    </tr>\n",
              "    <tr>\n",
              "      <th>hr</th>\n",
              "      <td>724</td>\n",
              "      <td>15</td>\n",
              "    </tr>\n",
              "    <tr>\n",
              "      <th>management</th>\n",
              "      <td>561</td>\n",
              "      <td>69</td>\n",
              "    </tr>\n",
              "    <tr>\n",
              "      <th>marketing</th>\n",
              "      <td>815</td>\n",
              "      <td>43</td>\n",
              "    </tr>\n",
              "    <tr>\n",
              "      <th>product_mng</th>\n",
              "      <td>902</td>\n",
              "      <td>0</td>\n",
              "    </tr>\n",
              "    <tr>\n",
              "      <th>sales</th>\n",
              "      <td>4040</td>\n",
              "      <td>100</td>\n",
              "    </tr>\n",
              "    <tr>\n",
              "      <th>support</th>\n",
              "      <td>2209</td>\n",
              "      <td>20</td>\n",
              "    </tr>\n",
              "    <tr>\n",
              "      <th>technical</th>\n",
              "      <td>2692</td>\n",
              "      <td>28</td>\n",
              "    </tr>\n",
              "  </tbody>\n",
              "</table>\n",
              "</div>\n",
              "      <button class=\"colab-df-convert\" onclick=\"convertToInteractive('df-fccf7ca8-a8db-478e-bc85-ea435c35e60b')\"\n",
              "              title=\"Convert this dataframe to an interactive table.\"\n",
              "              style=\"display:none;\">\n",
              "        \n",
              "  <svg xmlns=\"http://www.w3.org/2000/svg\" height=\"24px\"viewBox=\"0 0 24 24\"\n",
              "       width=\"24px\">\n",
              "    <path d=\"M0 0h24v24H0V0z\" fill=\"none\"/>\n",
              "    <path d=\"M18.56 5.44l.94 2.06.94-2.06 2.06-.94-2.06-.94-.94-2.06-.94 2.06-2.06.94zm-11 1L8.5 8.5l.94-2.06 2.06-.94-2.06-.94L8.5 2.5l-.94 2.06-2.06.94zm10 10l.94 2.06.94-2.06 2.06-.94-2.06-.94-.94-2.06-.94 2.06-2.06.94z\"/><path d=\"M17.41 7.96l-1.37-1.37c-.4-.4-.92-.59-1.43-.59-.52 0-1.04.2-1.43.59L10.3 9.45l-7.72 7.72c-.78.78-.78 2.05 0 2.83L4 21.41c.39.39.9.59 1.41.59.51 0 1.02-.2 1.41-.59l7.78-7.78 2.81-2.81c.8-.78.8-2.07 0-2.86zM5.41 20L4 18.59l7.72-7.72 1.47 1.35L5.41 20z\"/>\n",
              "  </svg>\n",
              "      </button>\n",
              "      \n",
              "  <style>\n",
              "    .colab-df-container {\n",
              "      display:flex;\n",
              "      flex-wrap:wrap;\n",
              "      gap: 12px;\n",
              "    }\n",
              "\n",
              "    .colab-df-convert {\n",
              "      background-color: #E8F0FE;\n",
              "      border: none;\n",
              "      border-radius: 50%;\n",
              "      cursor: pointer;\n",
              "      display: none;\n",
              "      fill: #1967D2;\n",
              "      height: 32px;\n",
              "      padding: 0 0 0 0;\n",
              "      width: 32px;\n",
              "    }\n",
              "\n",
              "    .colab-df-convert:hover {\n",
              "      background-color: #E2EBFA;\n",
              "      box-shadow: 0px 1px 2px rgba(60, 64, 67, 0.3), 0px 1px 3px 1px rgba(60, 64, 67, 0.15);\n",
              "      fill: #174EA6;\n",
              "    }\n",
              "\n",
              "    [theme=dark] .colab-df-convert {\n",
              "      background-color: #3B4455;\n",
              "      fill: #D2E3FC;\n",
              "    }\n",
              "\n",
              "    [theme=dark] .colab-df-convert:hover {\n",
              "      background-color: #434B5C;\n",
              "      box-shadow: 0px 1px 3px 1px rgba(0, 0, 0, 0.15);\n",
              "      filter: drop-shadow(0px 1px 2px rgba(0, 0, 0, 0.3));\n",
              "      fill: #FFFFFF;\n",
              "    }\n",
              "  </style>\n",
              "\n",
              "      <script>\n",
              "        const buttonEl =\n",
              "          document.querySelector('#df-fccf7ca8-a8db-478e-bc85-ea435c35e60b button.colab-df-convert');\n",
              "        buttonEl.style.display =\n",
              "          google.colab.kernel.accessAllowed ? 'block' : 'none';\n",
              "\n",
              "        async function convertToInteractive(key) {\n",
              "          const element = document.querySelector('#df-fccf7ca8-a8db-478e-bc85-ea435c35e60b');\n",
              "          const dataTable =\n",
              "            await google.colab.kernel.invokeFunction('convertToInteractive',\n",
              "                                                     [key], {});\n",
              "          if (!dataTable) return;\n",
              "\n",
              "          const docLinkHtml = 'Like what you see? Visit the ' +\n",
              "            '<a target=\"_blank\" href=https://colab.research.google.com/notebooks/data_table.ipynb>data table notebook</a>'\n",
              "            + ' to learn more about interactive tables.';\n",
              "          element.innerHTML = '';\n",
              "          dataTable['output_type'] = 'display_data';\n",
              "          await google.colab.output.renderOutput(dataTable, element);\n",
              "          const docLink = document.createElement('div');\n",
              "          docLink.innerHTML = docLinkHtml;\n",
              "          element.appendChild(docLink);\n",
              "        }\n",
              "      </script>\n",
              "    </div>\n",
              "  </div>\n",
              "  "
            ],
            "text/plain": [
              "promotion_last_5years     0    1\n",
              "sales                           \n",
              "IT                     1224    3\n",
              "RandD                   760   27\n",
              "accounting              753   14\n",
              "hr                      724   15\n",
              "management              561   69\n",
              "marketing               815   43\n",
              "product_mng             902    0\n",
              "sales                  4040  100\n",
              "support                2209   20\n",
              "technical              2692   28"
            ]
          },
          "execution_count": 351,
          "metadata": {},
          "output_type": "execute_result"
        }
      ],
      "source": [
        "pd.crosstab(data.sales, data.promotion_last_5years) #son 5 yılda promosyon alan departmanların ayrılması\n"
      ]
    },
    {
      "cell_type": "code",
      "execution_count": null,
      "metadata": {
        "colab": {
          "base_uri": "https://localhost:8080/",
          "height": 175
        },
        "id": "ytHDGo9npC_d",
        "outputId": "1aa08f0f-7458-4b83-d537-0f1e48453a6f"
      },
      "outputs": [
        {
          "data": {
            "text/html": [
              "\n",
              "  <div id=\"df-310f1083-fcc9-4967-8a48-185840128e41\">\n",
              "    <div class=\"colab-df-container\">\n",
              "      <div>\n",
              "<style scoped>\n",
              "    .dataframe tbody tr th:only-of-type {\n",
              "        vertical-align: middle;\n",
              "    }\n",
              "\n",
              "    .dataframe tbody tr th {\n",
              "        vertical-align: top;\n",
              "    }\n",
              "\n",
              "    .dataframe thead th {\n",
              "        text-align: right;\n",
              "    }\n",
              "</style>\n",
              "<table border=\"1\" class=\"dataframe\">\n",
              "  <thead>\n",
              "    <tr style=\"text-align: right;\">\n",
              "      <th>promotion_last_5years</th>\n",
              "      <th>0</th>\n",
              "      <th>1</th>\n",
              "    </tr>\n",
              "    <tr>\n",
              "      <th>salary</th>\n",
              "      <th></th>\n",
              "      <th></th>\n",
              "    </tr>\n",
              "  </thead>\n",
              "  <tbody>\n",
              "    <tr>\n",
              "      <th>high</th>\n",
              "      <td>1165</td>\n",
              "      <td>72</td>\n",
              "    </tr>\n",
              "    <tr>\n",
              "      <th>low</th>\n",
              "      <td>7250</td>\n",
              "      <td>66</td>\n",
              "    </tr>\n",
              "    <tr>\n",
              "      <th>medium</th>\n",
              "      <td>6265</td>\n",
              "      <td>181</td>\n",
              "    </tr>\n",
              "  </tbody>\n",
              "</table>\n",
              "</div>\n",
              "      <button class=\"colab-df-convert\" onclick=\"convertToInteractive('df-310f1083-fcc9-4967-8a48-185840128e41')\"\n",
              "              title=\"Convert this dataframe to an interactive table.\"\n",
              "              style=\"display:none;\">\n",
              "        \n",
              "  <svg xmlns=\"http://www.w3.org/2000/svg\" height=\"24px\"viewBox=\"0 0 24 24\"\n",
              "       width=\"24px\">\n",
              "    <path d=\"M0 0h24v24H0V0z\" fill=\"none\"/>\n",
              "    <path d=\"M18.56 5.44l.94 2.06.94-2.06 2.06-.94-2.06-.94-.94-2.06-.94 2.06-2.06.94zm-11 1L8.5 8.5l.94-2.06 2.06-.94-2.06-.94L8.5 2.5l-.94 2.06-2.06.94zm10 10l.94 2.06.94-2.06 2.06-.94-2.06-.94-.94-2.06-.94 2.06-2.06.94z\"/><path d=\"M17.41 7.96l-1.37-1.37c-.4-.4-.92-.59-1.43-.59-.52 0-1.04.2-1.43.59L10.3 9.45l-7.72 7.72c-.78.78-.78 2.05 0 2.83L4 21.41c.39.39.9.59 1.41.59.51 0 1.02-.2 1.41-.59l7.78-7.78 2.81-2.81c.8-.78.8-2.07 0-2.86zM5.41 20L4 18.59l7.72-7.72 1.47 1.35L5.41 20z\"/>\n",
              "  </svg>\n",
              "      </button>\n",
              "      \n",
              "  <style>\n",
              "    .colab-df-container {\n",
              "      display:flex;\n",
              "      flex-wrap:wrap;\n",
              "      gap: 12px;\n",
              "    }\n",
              "\n",
              "    .colab-df-convert {\n",
              "      background-color: #E8F0FE;\n",
              "      border: none;\n",
              "      border-radius: 50%;\n",
              "      cursor: pointer;\n",
              "      display: none;\n",
              "      fill: #1967D2;\n",
              "      height: 32px;\n",
              "      padding: 0 0 0 0;\n",
              "      width: 32px;\n",
              "    }\n",
              "\n",
              "    .colab-df-convert:hover {\n",
              "      background-color: #E2EBFA;\n",
              "      box-shadow: 0px 1px 2px rgba(60, 64, 67, 0.3), 0px 1px 3px 1px rgba(60, 64, 67, 0.15);\n",
              "      fill: #174EA6;\n",
              "    }\n",
              "\n",
              "    [theme=dark] .colab-df-convert {\n",
              "      background-color: #3B4455;\n",
              "      fill: #D2E3FC;\n",
              "    }\n",
              "\n",
              "    [theme=dark] .colab-df-convert:hover {\n",
              "      background-color: #434B5C;\n",
              "      box-shadow: 0px 1px 3px 1px rgba(0, 0, 0, 0.15);\n",
              "      filter: drop-shadow(0px 1px 2px rgba(0, 0, 0, 0.3));\n",
              "      fill: #FFFFFF;\n",
              "    }\n",
              "  </style>\n",
              "\n",
              "      <script>\n",
              "        const buttonEl =\n",
              "          document.querySelector('#df-310f1083-fcc9-4967-8a48-185840128e41 button.colab-df-convert');\n",
              "        buttonEl.style.display =\n",
              "          google.colab.kernel.accessAllowed ? 'block' : 'none';\n",
              "\n",
              "        async function convertToInteractive(key) {\n",
              "          const element = document.querySelector('#df-310f1083-fcc9-4967-8a48-185840128e41');\n",
              "          const dataTable =\n",
              "            await google.colab.kernel.invokeFunction('convertToInteractive',\n",
              "                                                     [key], {});\n",
              "          if (!dataTable) return;\n",
              "\n",
              "          const docLinkHtml = 'Like what you see? Visit the ' +\n",
              "            '<a target=\"_blank\" href=https://colab.research.google.com/notebooks/data_table.ipynb>data table notebook</a>'\n",
              "            + ' to learn more about interactive tables.';\n",
              "          element.innerHTML = '';\n",
              "          dataTable['output_type'] = 'display_data';\n",
              "          await google.colab.output.renderOutput(dataTable, element);\n",
              "          const docLink = document.createElement('div');\n",
              "          docLink.innerHTML = docLinkHtml;\n",
              "          element.appendChild(docLink);\n",
              "        }\n",
              "      </script>\n",
              "    </div>\n",
              "  </div>\n",
              "  "
            ],
            "text/plain": [
              "promotion_last_5years     0    1\n",
              "salary                          \n",
              "high                   1165   72\n",
              "low                    7250   66\n",
              "medium                 6265  181"
            ]
          },
          "execution_count": 352,
          "metadata": {},
          "output_type": "execute_result"
        }
      ],
      "source": [
        "pd.crosstab(data.salary, data.promotion_last_5years) #son 5 yılda promosyon alanlrın maaşları\n"
      ]
    },
    {
      "cell_type": "code",
      "execution_count": null,
      "metadata": {
        "colab": {
          "base_uri": "https://localhost:8080/",
          "height": 332
        },
        "id": "NBDi26tepJ-E",
        "outputId": "39a7a2c1-81ed-445f-bbfa-9945d392dd27"
      },
      "outputs": [
        {
          "data": {
            "text/html": [
              "\n",
              "  <div id=\"df-12ce8003-b539-4498-a718-e66a5721eabd\">\n",
              "    <div class=\"colab-df-container\">\n",
              "      <div>\n",
              "<style scoped>\n",
              "    .dataframe tbody tr th:only-of-type {\n",
              "        vertical-align: middle;\n",
              "    }\n",
              "\n",
              "    .dataframe tbody tr th {\n",
              "        vertical-align: top;\n",
              "    }\n",
              "\n",
              "    .dataframe thead th {\n",
              "        text-align: right;\n",
              "    }\n",
              "</style>\n",
              "<table border=\"1\" class=\"dataframe\">\n",
              "  <thead>\n",
              "    <tr style=\"text-align: right;\">\n",
              "      <th>left</th>\n",
              "      <th>0</th>\n",
              "      <th>1</th>\n",
              "    </tr>\n",
              "    <tr>\n",
              "      <th>time_spend_company</th>\n",
              "      <th></th>\n",
              "      <th></th>\n",
              "    </tr>\n",
              "  </thead>\n",
              "  <tbody>\n",
              "    <tr>\n",
              "      <th>2</th>\n",
              "      <td>3191</td>\n",
              "      <td>53</td>\n",
              "    </tr>\n",
              "    <tr>\n",
              "      <th>3</th>\n",
              "      <td>4857</td>\n",
              "      <td>1586</td>\n",
              "    </tr>\n",
              "    <tr>\n",
              "      <th>4</th>\n",
              "      <td>1667</td>\n",
              "      <td>890</td>\n",
              "    </tr>\n",
              "    <tr>\n",
              "      <th>5</th>\n",
              "      <td>640</td>\n",
              "      <td>833</td>\n",
              "    </tr>\n",
              "    <tr>\n",
              "      <th>6</th>\n",
              "      <td>509</td>\n",
              "      <td>209</td>\n",
              "    </tr>\n",
              "    <tr>\n",
              "      <th>7</th>\n",
              "      <td>188</td>\n",
              "      <td>0</td>\n",
              "    </tr>\n",
              "    <tr>\n",
              "      <th>8</th>\n",
              "      <td>162</td>\n",
              "      <td>0</td>\n",
              "    </tr>\n",
              "    <tr>\n",
              "      <th>10</th>\n",
              "      <td>214</td>\n",
              "      <td>0</td>\n",
              "    </tr>\n",
              "  </tbody>\n",
              "</table>\n",
              "</div>\n",
              "      <button class=\"colab-df-convert\" onclick=\"convertToInteractive('df-12ce8003-b539-4498-a718-e66a5721eabd')\"\n",
              "              title=\"Convert this dataframe to an interactive table.\"\n",
              "              style=\"display:none;\">\n",
              "        \n",
              "  <svg xmlns=\"http://www.w3.org/2000/svg\" height=\"24px\"viewBox=\"0 0 24 24\"\n",
              "       width=\"24px\">\n",
              "    <path d=\"M0 0h24v24H0V0z\" fill=\"none\"/>\n",
              "    <path d=\"M18.56 5.44l.94 2.06.94-2.06 2.06-.94-2.06-.94-.94-2.06-.94 2.06-2.06.94zm-11 1L8.5 8.5l.94-2.06 2.06-.94-2.06-.94L8.5 2.5l-.94 2.06-2.06.94zm10 10l.94 2.06.94-2.06 2.06-.94-2.06-.94-.94-2.06-.94 2.06-2.06.94z\"/><path d=\"M17.41 7.96l-1.37-1.37c-.4-.4-.92-.59-1.43-.59-.52 0-1.04.2-1.43.59L10.3 9.45l-7.72 7.72c-.78.78-.78 2.05 0 2.83L4 21.41c.39.39.9.59 1.41.59.51 0 1.02-.2 1.41-.59l7.78-7.78 2.81-2.81c.8-.78.8-2.07 0-2.86zM5.41 20L4 18.59l7.72-7.72 1.47 1.35L5.41 20z\"/>\n",
              "  </svg>\n",
              "      </button>\n",
              "      \n",
              "  <style>\n",
              "    .colab-df-container {\n",
              "      display:flex;\n",
              "      flex-wrap:wrap;\n",
              "      gap: 12px;\n",
              "    }\n",
              "\n",
              "    .colab-df-convert {\n",
              "      background-color: #E8F0FE;\n",
              "      border: none;\n",
              "      border-radius: 50%;\n",
              "      cursor: pointer;\n",
              "      display: none;\n",
              "      fill: #1967D2;\n",
              "      height: 32px;\n",
              "      padding: 0 0 0 0;\n",
              "      width: 32px;\n",
              "    }\n",
              "\n",
              "    .colab-df-convert:hover {\n",
              "      background-color: #E2EBFA;\n",
              "      box-shadow: 0px 1px 2px rgba(60, 64, 67, 0.3), 0px 1px 3px 1px rgba(60, 64, 67, 0.15);\n",
              "      fill: #174EA6;\n",
              "    }\n",
              "\n",
              "    [theme=dark] .colab-df-convert {\n",
              "      background-color: #3B4455;\n",
              "      fill: #D2E3FC;\n",
              "    }\n",
              "\n",
              "    [theme=dark] .colab-df-convert:hover {\n",
              "      background-color: #434B5C;\n",
              "      box-shadow: 0px 1px 3px 1px rgba(0, 0, 0, 0.15);\n",
              "      filter: drop-shadow(0px 1px 2px rgba(0, 0, 0, 0.3));\n",
              "      fill: #FFFFFF;\n",
              "    }\n",
              "  </style>\n",
              "\n",
              "      <script>\n",
              "        const buttonEl =\n",
              "          document.querySelector('#df-12ce8003-b539-4498-a718-e66a5721eabd button.colab-df-convert');\n",
              "        buttonEl.style.display =\n",
              "          google.colab.kernel.accessAllowed ? 'block' : 'none';\n",
              "\n",
              "        async function convertToInteractive(key) {\n",
              "          const element = document.querySelector('#df-12ce8003-b539-4498-a718-e66a5721eabd');\n",
              "          const dataTable =\n",
              "            await google.colab.kernel.invokeFunction('convertToInteractive',\n",
              "                                                     [key], {});\n",
              "          if (!dataTable) return;\n",
              "\n",
              "          const docLinkHtml = 'Like what you see? Visit the ' +\n",
              "            '<a target=\"_blank\" href=https://colab.research.google.com/notebooks/data_table.ipynb>data table notebook</a>'\n",
              "            + ' to learn more about interactive tables.';\n",
              "          element.innerHTML = '';\n",
              "          dataTable['output_type'] = 'display_data';\n",
              "          await google.colab.output.renderOutput(dataTable, element);\n",
              "          const docLink = document.createElement('div');\n",
              "          docLink.innerHTML = docLinkHtml;\n",
              "          element.appendChild(docLink);\n",
              "        }\n",
              "      </script>\n",
              "    </div>\n",
              "  </div>\n",
              "  "
            ],
            "text/plain": [
              "left                   0     1\n",
              "time_spend_company            \n",
              "2                   3191    53\n",
              "3                   4857  1586\n",
              "4                   1667   890\n",
              "5                    640   833\n",
              "6                    509   209\n",
              "7                    188     0\n",
              "8                    162     0\n",
              "10                   214     0"
            ]
          },
          "execution_count": 353,
          "metadata": {},
          "output_type": "execute_result"
        }
      ],
      "source": [
        "pd.crosstab(data.time_spend_company, data.left) #ayrılma ve kaç yıldır çalıştıkları\n"
      ]
    },
    {
      "cell_type": "markdown",
      "metadata": {
        "id": "XKUB-UEBde_w"
      },
      "source": [
        "# Karar Ağacı Kullanılarak Model Geliştirilmesi"
      ]
    },
    {
      "cell_type": "code",
      "execution_count": null,
      "metadata": {
        "id": "jPsLV8x6i64q"
      },
      "outputs": [],
      "source": [
        "from sklearn.preprocessing import StandardScaler\n",
        "from sklearn.neural_network import MLPClassifier\n",
        "from sklearn.metrics import classification_report, confusion_matrix\n",
        "from sklearn.model_selection import train_test_split"
      ]
    },
    {
      "cell_type": "code",
      "execution_count": null,
      "metadata": {
        "id": "aF8lVpy4diVU"
      },
      "outputs": [],
      "source": [
        "x = data.iloc[:,[0,1,2,3,4,5,7,8,9]] #bağımsız değişkenler\n",
        "y = data.iloc[:,[6]] "
      ]
    },
    {
      "cell_type": "code",
      "execution_count": null,
      "metadata": {
        "colab": {
          "base_uri": "https://localhost:8080/",
          "height": 632
        },
        "id": "a62iD52MpeAZ",
        "outputId": "fa0ce7ef-8788-4bb7-e60a-ca598d449a64"
      },
      "outputs": [
        {
          "name": "stderr",
          "output_type": "stream",
          "text": [
            "/usr/local/lib/python3.7/dist-packages/ipykernel_launcher.py:3: SettingWithCopyWarning: \n",
            "A value is trying to be set on a copy of a slice from a DataFrame.\n",
            "Try using .loc[row_indexer,col_indexer] = value instead\n",
            "\n",
            "See the caveats in the documentation: https://pandas.pydata.org/pandas-docs/stable/user_guide/indexing.html#returning-a-view-versus-a-copy\n",
            "  This is separate from the ipykernel package so we can avoid doing imports until\n",
            "/usr/local/lib/python3.7/dist-packages/ipykernel_launcher.py:5: SettingWithCopyWarning: \n",
            "A value is trying to be set on a copy of a slice from a DataFrame.\n",
            "Try using .loc[row_indexer,col_indexer] = value instead\n",
            "\n",
            "See the caveats in the documentation: https://pandas.pydata.org/pandas-docs/stable/user_guide/indexing.html#returning-a-view-versus-a-copy\n",
            "  \"\"\"\n"
          ]
        },
        {
          "data": {
            "text/html": [
              "\n",
              "  <div id=\"df-4c47d5ce-b491-4015-9bd6-b9b8a3c79959\">\n",
              "    <div class=\"colab-df-container\">\n",
              "      <div>\n",
              "<style scoped>\n",
              "    .dataframe tbody tr th:only-of-type {\n",
              "        vertical-align: middle;\n",
              "    }\n",
              "\n",
              "    .dataframe tbody tr th {\n",
              "        vertical-align: top;\n",
              "    }\n",
              "\n",
              "    .dataframe thead th {\n",
              "        text-align: right;\n",
              "    }\n",
              "</style>\n",
              "<table border=\"1\" class=\"dataframe\">\n",
              "  <thead>\n",
              "    <tr style=\"text-align: right;\">\n",
              "      <th></th>\n",
              "      <th>satisfaction_level</th>\n",
              "      <th>last_evaluation</th>\n",
              "      <th>number_project</th>\n",
              "      <th>average_montly_hours</th>\n",
              "      <th>time_spend_company</th>\n",
              "      <th>Work_accident</th>\n",
              "      <th>promotion_last_5years</th>\n",
              "      <th>sales</th>\n",
              "      <th>salary</th>\n",
              "    </tr>\n",
              "  </thead>\n",
              "  <tbody>\n",
              "    <tr>\n",
              "      <th>0</th>\n",
              "      <td>0.38</td>\n",
              "      <td>0.53</td>\n",
              "      <td>2</td>\n",
              "      <td>157</td>\n",
              "      <td>3</td>\n",
              "      <td>0</td>\n",
              "      <td>0</td>\n",
              "      <td>7</td>\n",
              "      <td>1</td>\n",
              "    </tr>\n",
              "    <tr>\n",
              "      <th>1</th>\n",
              "      <td>0.80</td>\n",
              "      <td>0.86</td>\n",
              "      <td>5</td>\n",
              "      <td>262</td>\n",
              "      <td>6</td>\n",
              "      <td>0</td>\n",
              "      <td>0</td>\n",
              "      <td>7</td>\n",
              "      <td>2</td>\n",
              "    </tr>\n",
              "    <tr>\n",
              "      <th>2</th>\n",
              "      <td>0.11</td>\n",
              "      <td>0.88</td>\n",
              "      <td>7</td>\n",
              "      <td>272</td>\n",
              "      <td>4</td>\n",
              "      <td>0</td>\n",
              "      <td>0</td>\n",
              "      <td>7</td>\n",
              "      <td>2</td>\n",
              "    </tr>\n",
              "    <tr>\n",
              "      <th>3</th>\n",
              "      <td>0.72</td>\n",
              "      <td>0.87</td>\n",
              "      <td>5</td>\n",
              "      <td>223</td>\n",
              "      <td>5</td>\n",
              "      <td>0</td>\n",
              "      <td>0</td>\n",
              "      <td>7</td>\n",
              "      <td>1</td>\n",
              "    </tr>\n",
              "    <tr>\n",
              "      <th>4</th>\n",
              "      <td>0.37</td>\n",
              "      <td>0.52</td>\n",
              "      <td>2</td>\n",
              "      <td>159</td>\n",
              "      <td>3</td>\n",
              "      <td>0</td>\n",
              "      <td>0</td>\n",
              "      <td>7</td>\n",
              "      <td>1</td>\n",
              "    </tr>\n",
              "    <tr>\n",
              "      <th>...</th>\n",
              "      <td>...</td>\n",
              "      <td>...</td>\n",
              "      <td>...</td>\n",
              "      <td>...</td>\n",
              "      <td>...</td>\n",
              "      <td>...</td>\n",
              "      <td>...</td>\n",
              "      <td>...</td>\n",
              "      <td>...</td>\n",
              "    </tr>\n",
              "    <tr>\n",
              "      <th>14994</th>\n",
              "      <td>0.40</td>\n",
              "      <td>0.57</td>\n",
              "      <td>2</td>\n",
              "      <td>151</td>\n",
              "      <td>3</td>\n",
              "      <td>0</td>\n",
              "      <td>0</td>\n",
              "      <td>8</td>\n",
              "      <td>1</td>\n",
              "    </tr>\n",
              "    <tr>\n",
              "      <th>14995</th>\n",
              "      <td>0.37</td>\n",
              "      <td>0.48</td>\n",
              "      <td>2</td>\n",
              "      <td>160</td>\n",
              "      <td>3</td>\n",
              "      <td>0</td>\n",
              "      <td>0</td>\n",
              "      <td>8</td>\n",
              "      <td>1</td>\n",
              "    </tr>\n",
              "    <tr>\n",
              "      <th>14996</th>\n",
              "      <td>0.37</td>\n",
              "      <td>0.53</td>\n",
              "      <td>2</td>\n",
              "      <td>143</td>\n",
              "      <td>3</td>\n",
              "      <td>0</td>\n",
              "      <td>0</td>\n",
              "      <td>8</td>\n",
              "      <td>1</td>\n",
              "    </tr>\n",
              "    <tr>\n",
              "      <th>14997</th>\n",
              "      <td>0.11</td>\n",
              "      <td>0.96</td>\n",
              "      <td>6</td>\n",
              "      <td>280</td>\n",
              "      <td>4</td>\n",
              "      <td>0</td>\n",
              "      <td>0</td>\n",
              "      <td>8</td>\n",
              "      <td>1</td>\n",
              "    </tr>\n",
              "    <tr>\n",
              "      <th>14998</th>\n",
              "      <td>0.37</td>\n",
              "      <td>0.52</td>\n",
              "      <td>2</td>\n",
              "      <td>158</td>\n",
              "      <td>3</td>\n",
              "      <td>0</td>\n",
              "      <td>0</td>\n",
              "      <td>8</td>\n",
              "      <td>1</td>\n",
              "    </tr>\n",
              "  </tbody>\n",
              "</table>\n",
              "<p>14999 rows × 9 columns</p>\n",
              "</div>\n",
              "      <button class=\"colab-df-convert\" onclick=\"convertToInteractive('df-4c47d5ce-b491-4015-9bd6-b9b8a3c79959')\"\n",
              "              title=\"Convert this dataframe to an interactive table.\"\n",
              "              style=\"display:none;\">\n",
              "        \n",
              "  <svg xmlns=\"http://www.w3.org/2000/svg\" height=\"24px\"viewBox=\"0 0 24 24\"\n",
              "       width=\"24px\">\n",
              "    <path d=\"M0 0h24v24H0V0z\" fill=\"none\"/>\n",
              "    <path d=\"M18.56 5.44l.94 2.06.94-2.06 2.06-.94-2.06-.94-.94-2.06-.94 2.06-2.06.94zm-11 1L8.5 8.5l.94-2.06 2.06-.94-2.06-.94L8.5 2.5l-.94 2.06-2.06.94zm10 10l.94 2.06.94-2.06 2.06-.94-2.06-.94-.94-2.06-.94 2.06-2.06.94z\"/><path d=\"M17.41 7.96l-1.37-1.37c-.4-.4-.92-.59-1.43-.59-.52 0-1.04.2-1.43.59L10.3 9.45l-7.72 7.72c-.78.78-.78 2.05 0 2.83L4 21.41c.39.39.9.59 1.41.59.51 0 1.02-.2 1.41-.59l7.78-7.78 2.81-2.81c.8-.78.8-2.07 0-2.86zM5.41 20L4 18.59l7.72-7.72 1.47 1.35L5.41 20z\"/>\n",
              "  </svg>\n",
              "      </button>\n",
              "      \n",
              "  <style>\n",
              "    .colab-df-container {\n",
              "      display:flex;\n",
              "      flex-wrap:wrap;\n",
              "      gap: 12px;\n",
              "    }\n",
              "\n",
              "    .colab-df-convert {\n",
              "      background-color: #E8F0FE;\n",
              "      border: none;\n",
              "      border-radius: 50%;\n",
              "      cursor: pointer;\n",
              "      display: none;\n",
              "      fill: #1967D2;\n",
              "      height: 32px;\n",
              "      padding: 0 0 0 0;\n",
              "      width: 32px;\n",
              "    }\n",
              "\n",
              "    .colab-df-convert:hover {\n",
              "      background-color: #E2EBFA;\n",
              "      box-shadow: 0px 1px 2px rgba(60, 64, 67, 0.3), 0px 1px 3px 1px rgba(60, 64, 67, 0.15);\n",
              "      fill: #174EA6;\n",
              "    }\n",
              "\n",
              "    [theme=dark] .colab-df-convert {\n",
              "      background-color: #3B4455;\n",
              "      fill: #D2E3FC;\n",
              "    }\n",
              "\n",
              "    [theme=dark] .colab-df-convert:hover {\n",
              "      background-color: #434B5C;\n",
              "      box-shadow: 0px 1px 3px 1px rgba(0, 0, 0, 0.15);\n",
              "      filter: drop-shadow(0px 1px 2px rgba(0, 0, 0, 0.3));\n",
              "      fill: #FFFFFF;\n",
              "    }\n",
              "  </style>\n",
              "\n",
              "      <script>\n",
              "        const buttonEl =\n",
              "          document.querySelector('#df-4c47d5ce-b491-4015-9bd6-b9b8a3c79959 button.colab-df-convert');\n",
              "        buttonEl.style.display =\n",
              "          google.colab.kernel.accessAllowed ? 'block' : 'none';\n",
              "\n",
              "        async function convertToInteractive(key) {\n",
              "          const element = document.querySelector('#df-4c47d5ce-b491-4015-9bd6-b9b8a3c79959');\n",
              "          const dataTable =\n",
              "            await google.colab.kernel.invokeFunction('convertToInteractive',\n",
              "                                                     [key], {});\n",
              "          if (!dataTable) return;\n",
              "\n",
              "          const docLinkHtml = 'Like what you see? Visit the ' +\n",
              "            '<a target=\"_blank\" href=https://colab.research.google.com/notebooks/data_table.ipynb>data table notebook</a>'\n",
              "            + ' to learn more about interactive tables.';\n",
              "          element.innerHTML = '';\n",
              "          dataTable['output_type'] = 'display_data';\n",
              "          await google.colab.output.renderOutput(dataTable, element);\n",
              "          const docLink = document.createElement('div');\n",
              "          docLink.innerHTML = docLinkHtml;\n",
              "          element.appendChild(docLink);\n",
              "        }\n",
              "      </script>\n",
              "    </div>\n",
              "  </div>\n",
              "  "
            ],
            "text/plain": [
              "       satisfaction_level  last_evaluation  number_project  \\\n",
              "0                    0.38             0.53               2   \n",
              "1                    0.80             0.86               5   \n",
              "2                    0.11             0.88               7   \n",
              "3                    0.72             0.87               5   \n",
              "4                    0.37             0.52               2   \n",
              "...                   ...              ...             ...   \n",
              "14994                0.40             0.57               2   \n",
              "14995                0.37             0.48               2   \n",
              "14996                0.37             0.53               2   \n",
              "14997                0.11             0.96               6   \n",
              "14998                0.37             0.52               2   \n",
              "\n",
              "       average_montly_hours  time_spend_company  Work_accident  \\\n",
              "0                       157                   3              0   \n",
              "1                       262                   6              0   \n",
              "2                       272                   4              0   \n",
              "3                       223                   5              0   \n",
              "4                       159                   3              0   \n",
              "...                     ...                 ...            ...   \n",
              "14994                   151                   3              0   \n",
              "14995                   160                   3              0   \n",
              "14996                   143                   3              0   \n",
              "14997                   280                   4              0   \n",
              "14998                   158                   3              0   \n",
              "\n",
              "       promotion_last_5years  sales  salary  \n",
              "0                          0      7       1  \n",
              "1                          0      7       2  \n",
              "2                          0      7       2  \n",
              "3                          0      7       1  \n",
              "4                          0      7       1  \n",
              "...                      ...    ...     ...  \n",
              "14994                      0      8       1  \n",
              "14995                      0      8       1  \n",
              "14996                      0      8       1  \n",
              "14997                      0      8       1  \n",
              "14998                      0      8       1  \n",
              "\n",
              "[14999 rows x 9 columns]"
            ]
          },
          "execution_count": 356,
          "metadata": {},
          "output_type": "execute_result"
        }
      ],
      "source": [
        "#string kolonlara sayısal değer atama\n",
        "label_encoder = preprocessing.LabelEncoder() \n",
        "x['sales']= label_encoder.fit_transform(data['sales'])\n",
        "x['sales'].unique()\n",
        "x['salary']= label_encoder.fit_transform(data['salary'])\n",
        "x['salary'].unique()\n",
        "x"
      ]
    },
    {
      "cell_type": "code",
      "execution_count": null,
      "metadata": {
        "id": "NR-cwI1UqlAg"
      },
      "outputs": [],
      "source": [
        "x_train, x_test, y_train, y_test = train_test_split(x, y, test_size = 0.2, random_state=0) #eğitim ve test parçalarına bölüyoruz"
      ]
    },
    {
      "cell_type": "code",
      "execution_count": null,
      "metadata": {
        "colab": {
          "base_uri": "https://localhost:8080/"
        },
        "id": "i2MPlZDeq0__",
        "outputId": "ac0dfbe6-9dd8-42d4-c42f-694e80b8bd9a"
      },
      "outputs": [
        {
          "name": "stdout",
          "output_type": "stream",
          "text": [
            "Başarı Oranı:  0.969\n"
          ]
        }
      ],
      "source": [
        "#karar ağacı oluşturma\n",
        "d_tree1 = DecisionTreeClassifier(max_depth = 4)\n",
        "d_tree1.fit(x_train, y_train)\n",
        "y_pred = d_tree1.predict(x_test)\n",
        "print(\"Başarı Oranı: \",metrics.accuracy_score(y_test, y_pred))"
      ]
    },
    {
      "cell_type": "markdown",
      "metadata": {
        "id": "jQ6SWagwr114"
      },
      "source": [
        "# Yapay Sinir Ağları Kullanılarak Model Geliştirilmesi\n",
        "\n",
        "\n",
        "\n",
        "\n"
      ]
    },
    {
      "cell_type": "code",
      "execution_count": null,
      "metadata": {
        "id": "3jCbIYwrsB38"
      },
      "outputs": [],
      "source": [
        "from sklearn.preprocessing import StandardScaler\n",
        "from sklearn.neural_network import MLPClassifier\n",
        "from sklearn.metrics import classification_report, confusion_matrix\n",
        "from sklearn.model_selection import train_test_split\n"
      ]
    },
    {
      "cell_type": "code",
      "execution_count": null,
      "metadata": {
        "id": "P0EYQF56r3eW"
      },
      "outputs": [],
      "source": [
        "#ölçeklendirme\n",
        "scaler = StandardScaler()\n",
        "scaler.fit(x_train)\n",
        "x_train = scaler.transform(x_train)\n",
        "x_test = scaler.transform(x_test)"
      ]
    },
    {
      "cell_type": "code",
      "execution_count": null,
      "metadata": {
        "colab": {
          "base_uri": "https://localhost:8080/"
        },
        "id": "hLVvoSteseqA",
        "outputId": "d89ddfaa-e662-4c30-899a-af03376e413d"
      },
      "outputs": [
        {
          "data": {
            "text/plain": [
              "MLPClassifier(hidden_layer_sizes=(10, 10, 10, 10), max_iter=10000)"
            ]
          },
          "execution_count": 361,
          "metadata": {},
          "output_type": "execute_result"
        }
      ],
      "source": [
        "#yapay sinir ağı modelimizi oluştur, gizli katmanı yapılandır\n",
        "mlp = MLPClassifier(hidden_layer_sizes=(10, 10, 10, 10), max_iter=10000) #10ar düğümden oluşan 4 katlı katman ağı oluştur\n",
        "mlp.fit(x_train, y_train.values.ravel())"
      ]
    },
    {
      "cell_type": "code",
      "execution_count": null,
      "metadata": {
        "colab": {
          "base_uri": "https://localhost:8080/"
        },
        "id": "Q-4WjN_2I6Cj",
        "outputId": "d98fbb35-37a6-44d6-8bb5-487534ff8f73"
      },
      "outputs": [
        {
          "name": "stdout",
          "output_type": "stream",
          "text": [
            "0.9768314026168847\n",
            "0.9723333333333334\n"
          ]
        }
      ],
      "source": [
        "print(mlp.score(x_train, y_train))\n",
        "print(mlp.score(x_test, y_test))\n"
      ]
    },
    {
      "cell_type": "code",
      "execution_count": null,
      "metadata": {
        "id": "b2tnb80QsmuM"
      },
      "outputs": [],
      "source": [
        "#test verileri üzerinde tahminde bulunma \n",
        "predictions = mlp.predict(x_test)"
      ]
    },
    {
      "cell_type": "code",
      "execution_count": null,
      "metadata": {
        "colab": {
          "base_uri": "https://localhost:8080/"
        },
        "id": "to-V8kmBsoI3",
        "outputId": "92b68e79-07aa-408b-e0c4-42b6298449f3"
      },
      "outputs": [
        {
          "name": "stdout",
          "output_type": "stream",
          "text": [
            "[[2281   18]\n",
            " [  65  636]]\n",
            "              precision    recall  f1-score   support\n",
            "\n",
            "           0       0.97      0.99      0.98      2299\n",
            "           1       0.97      0.91      0.94       701\n",
            "\n",
            "    accuracy                           0.97      3000\n",
            "   macro avg       0.97      0.95      0.96      3000\n",
            "weighted avg       0.97      0.97      0.97      3000\n",
            "\n"
          ]
        }
      ],
      "source": [
        "#oluşturduğumuz algoritmanın performansının ölçümlenmesi\n",
        "print(confusion_matrix(y_test,predictions))\n",
        "print(classification_report(y_test,predictions))"
      ]
    },
    {
      "cell_type": "markdown",
      "metadata": {
        "id": "W86e7Qc3uQm-"
      },
      "source": [
        "![image.png](data:image/png;base64,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)\n",
        "\n",
        "![image.png](data:image/png;base64,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)"
      ]
    },
    {
      "cell_type": "markdown",
      "metadata": {
        "id": "67KK-1gxTM-i"
      },
      "source": [
        "# deneme"
      ]
    },
    {
      "cell_type": "code",
      "execution_count": null,
      "metadata": {
        "id": "VLNVpH7bMh6V"
      },
      "outputs": [],
      "source": [
        "from collections import OrderedDict\n"
      ]
    },
    {
      "cell_type": "code",
      "execution_count": null,
      "metadata": {
        "id": "u060LerDMuUr"
      },
      "outputs": [],
      "source": [
        "new_data = OrderedDict([\n",
        "            (\"satisfaction_level\" , 0.5 ),\n",
        "            (\"last_evaluation\" , 0.5 ),\n",
        "            (\"number_project\" , 3 ),\n",
        "            (\"average_montly_hours\" , 150 ),\n",
        "            (\"time_spend_company\" , 5 ),\n",
        "            (\"Work_accident\" , 0 ),\n",
        "            (\"promotion_last_5years\" , 1 ),\n",
        "            (\"sales\" , 1 ),\n",
        "            (\"salary \" , 1 )]\n",
        ")\n"
      ]
    },
    {
      "cell_type": "code",
      "execution_count": null,
      "metadata": {
        "colab": {
          "base_uri": "https://localhost:8080/",
          "height": 165
        },
        "id": "ChWFk8p4OI6O",
        "outputId": "ffd3aade-36ff-47e2-a003-197c2bea3d6c"
      },
      "outputs": [],
      "source": [
        "new_data = pd.Series(new_data).values.reshape(1,-1)"
      ]
    },
    {
      "cell_type": "code",
      "execution_count": null,
      "metadata": {
        "colab": {
          "base_uri": "https://localhost:8080/"
        },
        "id": "px3PFNvtPivC",
        "outputId": "56410dd3-da32-4abf-8332-9d99c85ddbcc"
      },
      "outputs": [
        {
          "name": "stderr",
          "output_type": "stream",
          "text": [
            "/usr/local/lib/python3.7/dist-packages/sklearn/base.py:451: UserWarning: X does not have valid feature names, but KNeighborsClassifier was fitted with feature names\n",
            "  \"X does not have valid feature names, but\"\n",
            "/usr/local/lib/python3.7/dist-packages/sklearn/base.py:451: UserWarning: X does not have valid feature names, but KNeighborsClassifier was fitted with feature names\n",
            "  \"X does not have valid feature names, but\"\n"
          ]
        }
      ],
      "source": [
        "predictions_new = model.predict(new_data)\n",
        "predictions_new = np.argmax(new_data, axis=1)\n",
        "y_pred = model.predict(new_data)\n"
      ]
    },
    {
      "cell_type": "code",
      "execution_count": null,
      "metadata": {
        "colab": {
          "base_uri": "https://localhost:8080/"
        },
        "id": "THha2fbjhNZD",
        "outputId": "5ac73bbb-fd26-41d4-b74a-8b6a71eb9c84"
      },
      "outputs": [
        {
          "data": {
            "text/plain": [
              "array([0])"
            ]
          },
          "execution_count": 369,
          "metadata": {},
          "output_type": "execute_result"
        }
      ],
      "source": [
        "y_pred"
      ]
    }
  ],
  "metadata": {
    "colab": {
      "collapsed_sections": [
        "0avh3SdieCDn",
        "XKUB-UEBde_w"
      ],
      "provenance": []
    },
    "kernelspec": {
      "display_name": "Python 3",
      "name": "python3"
    },
    "language_info": {
      "name": "python"
    }
  },
  "nbformat": 4,
  "nbformat_minor": 0
}
